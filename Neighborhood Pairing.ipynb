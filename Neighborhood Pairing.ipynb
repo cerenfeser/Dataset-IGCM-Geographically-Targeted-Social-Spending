{
  "cells": [
    {
      "cell_type": "code",
      "execution_count": 1,
      "metadata": {
        "colab": {
          "base_uri": "https://localhost:8080/"
        },
        "id": "HF6d_mQVAjZW",
        "outputId": "3b9a718f-0663-4291-b26c-f7fa7e4fa388",
        "vscode": {
          "languageId": "r"
        }
      },
      "outputs": [
        {
          "name": "stderr",
          "output_type": "stream",
          "text": [
            "Installing package into ‘/usr/local/lib/R/site-library’\n",
            "(as ‘lib’ is unspecified)\n",
            "\n",
            "also installing the dependencies ‘miscTools’, ‘rbibutils’, ‘bdsmatrix’, ‘collapse’, ‘zoo’, ‘sandwich’, ‘lmtest’, ‘maxLik’, ‘Rdpack’, ‘Formula’\n",
            "\n",
            "\n",
            "Installing package into ‘/usr/local/lib/R/site-library’\n",
            "(as ‘lib’ is unspecified)\n",
            "\n",
            "also installing the dependencies ‘cowplot’, ‘Deriv’, ‘microbenchmark’, ‘numDeriv’, ‘doBy’, ‘SparseM’, ‘MatrixModels’, ‘minqa’, ‘nloptr’, ‘RcppEigen’, ‘carData’, ‘abind’, ‘pbkrtest’, ‘quantreg’, ‘lme4’, ‘car’\n",
            "\n",
            "\n"
          ]
        }
      ],
      "source": [
        "install.packages(\"plm\")\n",
        "install.packages(\"AER\")\n"
      ]
    },
    {
      "cell_type": "code",
      "execution_count": 18,
      "metadata": {
        "id": "NH4Ifd3cDBs1",
        "vscode": {
          "languageId": "r"
        }
      },
      "outputs": [],
      "source": [
        "\n",
        "library(plm)\n",
        "library(AER)\n",
        "library(dplyr)\n",
        "library(\"readxl\")\n",
        "\n",
        "data <- read_excel('/content/dataset2.xlsx')\n",
        "data2 <- read_excel('/content/dataset3.xlsx')"
      ]
    },
    {
      "cell_type": "code",
      "execution_count": 11,
      "metadata": {
        "colab": {
          "base_uri": "https://localhost:8080/"
        },
        "id": "f8C7ihHiEV8L",
        "outputId": "c9f123a9-ea3a-4b5e-b553-1e9a3a2eda84",
        "vscode": {
          "languageId": "r"
        }
      },
      "outputs": [
        {
          "name": "stderr",
          "output_type": "stream",
          "text": [
            "Installing package into ‘/usr/local/lib/R/site-library’\n",
            "(as ‘lib’ is unspecified)\n",
            "\n",
            "Installing package into ‘/usr/local/lib/R/site-library’\n",
            "(as ‘lib’ is unspecified)\n",
            "\n"
          ]
        }
      ],
      "source": [
        "install.packages(\"sandwich\")\n",
        "install.packages(\"lmtest\")\n",
        "\n",
        "library(sandwich)\n",
        "library(lmtest)\n"
      ]
    },
    {
      "cell_type": "code",
      "execution_count": 13,
      "metadata": {
        "colab": {
          "base_uri": "https://localhost:8080/"
        },
        "id": "151rBrx6SZGC",
        "outputId": "46d46f4c-d26c-49a0-d8c8-b2005b66d8fc",
        "vscode": {
          "languageId": "r"
        }
      },
      "outputs": [
        {
          "name": "stderr",
          "output_type": "stream",
          "text": [
            "Installing package into ‘/usr/local/lib/R/site-library’\n",
            "(as ‘lib’ is unspecified)\n",
            "\n",
            "also installing the dependencies ‘dreamerr’, ‘stringmagic’\n",
            "\n",
            "\n",
            "Installing package into ‘/usr/local/lib/R/site-library’\n",
            "(as ‘lib’ is unspecified)\n",
            "\n",
            "also installing the dependencies ‘bayestestR’, ‘datawizard’, ‘checkmate’, ‘insight’, ‘parameters’, ‘performance’, ‘tables’, ‘tinytable’\n",
            "\n",
            "\n",
            "`modelsummary` 2.0.0 now uses `tinytable` as its default table-drawing\n",
            "  backend. Learn more at: https://vincentarelbundock.github.io/tinytable/\n",
            "\n",
            "Revert to `kableExtra` for one session:\n",
            "\n",
            "  options(modelsummary_factory_default = 'kableExtra')\n",
            "  options(modelsummary_factory_latex = 'kableExtra')\n",
            "  options(modelsummary_factory_html = 'kableExtra')\n",
            "\n",
            "Silence this message forever:\n",
            "\n",
            "  config_modelsummary(startup_message = FALSE)\n",
            "\n"
          ]
        }
      ],
      "source": [
        "install.packages(\"fixest\")\n",
        "library(fixest)\n",
        "\n",
        "install.packages(\"modelsummary\")\n",
        "library(modelsummary)\n"
      ]
    },
    {
      "cell_type": "code",
      "execution_count": 14,
      "metadata": {
        "colab": {
          "base_uri": "https://localhost:8080/",
          "height": 32
        },
        "id": "exk76MkpGG6K",
        "outputId": "525de008-e95c-4309-cdcf-d69dd8826741",
        "vscode": {
          "languageId": "r"
        }
      },
      "outputs": [
        {
          "data": {
            "text/html": [
              "<style>\n",
              ".list-inline {list-style: none; margin:0; padding: 0}\n",
              ".list-inline>li {display: inline-block}\n",
              ".list-inline>li:not(:last-child)::after {content: \"\\00b7\"; padding: 0 .5ex}\n",
              "</style>\n",
              "<ol class=list-inline><li>'district_nhood'</li><li>'district'</li><li>'border_district_nhood'</li><li>'border_district'</li><li>'hhold_recipient'</li><li>'population2023'</li><li>'SES_numeric'</li><li>'house_price'</li><li>'cumhur'</li><li>'eko_2019_june_r'</li><li>'log_population'</li><li>'log_house_price'</li><li>'county_pair_dummy'</li><li>'hhold_recipient_box_cox'</li></ol>\n"
            ],
            "text/latex": [
              "\\begin{enumerate*}\n",
              "\\item 'district\\_nhood'\n",
              "\\item 'district'\n",
              "\\item 'border\\_district\\_nhood'\n",
              "\\item 'border\\_district'\n",
              "\\item 'hhold\\_recipient'\n",
              "\\item 'population2023'\n",
              "\\item 'SES\\_numeric'\n",
              "\\item 'house\\_price'\n",
              "\\item 'cumhur'\n",
              "\\item 'eko\\_2019\\_june\\_r'\n",
              "\\item 'log\\_population'\n",
              "\\item 'log\\_house\\_price'\n",
              "\\item 'county\\_pair\\_dummy'\n",
              "\\item 'hhold\\_recipient\\_box\\_cox'\n",
              "\\end{enumerate*}\n"
            ],
            "text/markdown": [
              "1. 'district_nhood'\n",
              "2. 'district'\n",
              "3. 'border_district_nhood'\n",
              "4. 'border_district'\n",
              "5. 'hhold_recipient'\n",
              "6. 'population2023'\n",
              "7. 'SES_numeric'\n",
              "8. 'house_price'\n",
              "9. 'cumhur'\n",
              "10. 'eko_2019_june_r'\n",
              "11. 'log_population'\n",
              "12. 'log_house_price'\n",
              "13. 'county_pair_dummy'\n",
              "14. 'hhold_recipient_box_cox'\n",
              "\n",
              "\n"
            ],
            "text/plain": [
              " [1] \"district_nhood\"          \"district\"               \n",
              " [3] \"border_district_nhood\"   \"border_district\"        \n",
              " [5] \"hhold_recipient\"         \"population2023\"         \n",
              " [7] \"SES_numeric\"             \"house_price\"            \n",
              " [9] \"cumhur\"                  \"eko_2019_june_r\"        \n",
              "[11] \"log_population\"          \"log_house_price\"        \n",
              "[13] \"county_pair_dummy\"       \"hhold_recipient_box_cox\""
            ]
          },
          "metadata": {},
          "output_type": "display_data"
        }
      ],
      "source": [
        "colnames(data)"
      ]
    },
    {
      "cell_type": "code",
      "execution_count": 19,
      "metadata": {
        "id": "AVhWetijkZW3",
        "vscode": {
          "languageId": "r"
        }
      },
      "outputs": [],
      "source": [
        "#Within Marginals\n",
        "eko1 <- lm(hhold_recipient_box_cox ~ eko_2019_june_r + factor(county_pair_dummy), data = data)\n",
        "\n",
        "clustered_se_eko1 <- vcovCL(eko1, cluster = ~ county_pair_dummy)\n",
        "\n",
        "eko2 <- lm(hhold_recipient_box_cox ~ eko_2019_june_r + log_house_price + log_population +   factor(county_pair_dummy), data = data)\n",
        "\n",
        "clustered_se_eko2 <- vcovCL(eko2, cluster = ~ county_pair_dummy)\n",
        "\n"
      ]
    },
    {
      "cell_type": "code",
      "execution_count": 20,
      "metadata": {
        "colab": {
          "base_uri": "https://localhost:8080/",
          "height": 560
        },
        "id": "qHJEt7h8kOZr",
        "outputId": "3cabef07-b189-4c5d-8ae1-398de5442802",
        "vscode": {
          "languageId": "r"
        }
      },
      "outputs": [
        {
          "data": {
            "text/plain": [
              "\n",
              "+-----------------+-----------+-----------+\n",
              "|                 | (1)       | (2)       |\n",
              "+=================+===========+===========+\n",
              "| (Intercept)     | 22.587*** | 7.875     |\n",
              "+-----------------+-----------+-----------+\n",
              "|                 | (1.887)   | (6.344)   |\n",
              "+-----------------+-----------+-----------+\n",
              "| eko_2019_june_r | -6.269    | -5.356*   |\n",
              "+-----------------+-----------+-----------+\n",
              "|                 | (4.583)   | (2.813)   |\n",
              "+-----------------+-----------+-----------+\n",
              "| log_house_price |           | -2.919*** |\n",
              "+-----------------+-----------+-----------+\n",
              "|                 |           | (0.551)   |\n",
              "+-----------------+-----------+-----------+\n",
              "| log_population  |           | 4.426***  |\n",
              "+-----------------+-----------+-----------+\n",
              "|                 |           | (0.247)   |\n",
              "+-----------------+-----------+-----------+\n",
              "| Num.Obs.        | 1344      | 1344      |\n",
              "+-----------------+-----------+-----------+\n",
              "| R2              | 0.849     | 0.945     |\n",
              "+-----------------+-----------+-----------+\n",
              "| R2 Adj.         | 0.698     | 0.891     |\n",
              "+-----------------+-----------+-----------+\n",
              "| Log.Lik.        | -3282.935 | -2598.663 |\n",
              "+=================+===========+===========+\n",
              "| * p < 0.1, ** p < 0.05, *** p < 0.01    |\n",
              "+=================+===========+===========+\n",
              "| The standard errors are clustered at    |\n",
              "| the county pair level.                  |\n",
              "+=================+===========+===========+ "
            ]
          },
          "metadata": {},
          "output_type": "display_data"
        }
      ],
      "source": [
        "#Table5\n",
        "model_list <- list(eko1, eko2)\n",
        "vcov_list <- list(clustered_se_eko1, clustered_se_eko2)\n",
        "\n",
        "custom_stars <- c('*' = 0.10, '**' = 0.05, '***' = 0.01)\n",
        "\n",
        "modelsummary(model_list,\n",
        "            vcov = vcov_list,\n",
        "            stars = custom_stars,\n",
        "            coef_omit = \"factor\\\\(county_pair_dummy\\\\)\",\n",
        "            gof_omit = 'Within|Std.Errors|AIC|BIC|RMSE',\n",
        "            fmt = 3,\n",
        "            notes = \"The standard errors are clustered at the county pair level.\")  # Add custom footnote for significance stars"
      ]
    },
    {
      "cell_type": "code",
      "execution_count": 21,
      "metadata": {
        "id": "VHovAqwINboZ",
        "vscode": {
          "languageId": "r"
        }
      },
      "outputs": [],
      "source": [
        "data2$swing_dummy <- ifelse(data2$eko_2019_june_r >= 0.4 & data2$eko_2019_june_r <= 0.6, 1, 0)"
      ]
    },
    {
      "cell_type": "code",
      "execution_count": 22,
      "metadata": {
        "colab": {
          "base_uri": "https://localhost:8080/",
          "height": 32
        },
        "id": "KgDVTvi34hj4",
        "outputId": "4d9fe1d0-93ee-4995-ed01-d25eb4dc6473",
        "vscode": {
          "languageId": "r"
        }
      },
      "outputs": [
        {
          "data": {
            "text/html": [
              "<style>\n",
              ".list-inline {list-style: none; margin:0; padding: 0}\n",
              ".list-inline>li {display: inline-block}\n",
              ".list-inline>li:not(:last-child)::after {content: \"\\00b7\"; padding: 0 .5ex}\n",
              "</style>\n",
              "<ol class=list-inline><li>'district_nhood'</li><li>'district'</li><li>'border_district_nhood'</li><li>'border_district'</li><li>'hhold_recipient'</li><li>'population2023'</li><li>'SES_numeric'</li><li>'house_price'</li><li>'cumhur'</li><li>'eko_2019_june_r'</li><li>'log_population'</li><li>'log_house_price'</li><li>'county_pair_dummy'</li><li>'hhold_recipient_box_cox'</li><li>'swing_dummy'</li></ol>\n"
            ],
            "text/latex": [
              "\\begin{enumerate*}\n",
              "\\item 'district\\_nhood'\n",
              "\\item 'district'\n",
              "\\item 'border\\_district\\_nhood'\n",
              "\\item 'border\\_district'\n",
              "\\item 'hhold\\_recipient'\n",
              "\\item 'population2023'\n",
              "\\item 'SES\\_numeric'\n",
              "\\item 'house\\_price'\n",
              "\\item 'cumhur'\n",
              "\\item 'eko\\_2019\\_june\\_r'\n",
              "\\item 'log\\_population'\n",
              "\\item 'log\\_house\\_price'\n",
              "\\item 'county\\_pair\\_dummy'\n",
              "\\item 'hhold\\_recipient\\_box\\_cox'\n",
              "\\item 'swing\\_dummy'\n",
              "\\end{enumerate*}\n"
            ],
            "text/markdown": [
              "1. 'district_nhood'\n",
              "2. 'district'\n",
              "3. 'border_district_nhood'\n",
              "4. 'border_district'\n",
              "5. 'hhold_recipient'\n",
              "6. 'population2023'\n",
              "7. 'SES_numeric'\n",
              "8. 'house_price'\n",
              "9. 'cumhur'\n",
              "10. 'eko_2019_june_r'\n",
              "11. 'log_population'\n",
              "12. 'log_house_price'\n",
              "13. 'county_pair_dummy'\n",
              "14. 'hhold_recipient_box_cox'\n",
              "15. 'swing_dummy'\n",
              "\n",
              "\n"
            ],
            "text/plain": [
              " [1] \"district_nhood\"          \"district\"               \n",
              " [3] \"border_district_nhood\"   \"border_district\"        \n",
              " [5] \"hhold_recipient\"         \"population2023\"         \n",
              " [7] \"SES_numeric\"             \"house_price\"            \n",
              " [9] \"cumhur\"                  \"eko_2019_june_r\"        \n",
              "[11] \"log_population\"          \"log_house_price\"        \n",
              "[13] \"county_pair_dummy\"       \"hhold_recipient_box_cox\"\n",
              "[15] \"swing_dummy\"            "
            ]
          },
          "metadata": {},
          "output_type": "display_data"
        }
      ],
      "source": [
        "colnames(data2)"
      ]
    },
    {
      "cell_type": "code",
      "execution_count": 25,
      "metadata": {
        "id": "n1QrfxwTNbrb",
        "vscode": {
          "languageId": "r"
        }
      },
      "outputs": [],
      "source": [
        "#Marginal vs Others\n",
        "eko1v2 <- lm(hhold_recipient_box_cox ~ swing_dummy + factor(county_pair_dummy), data = data2)\n",
        "\n",
        "eko2v2 <- lm(hhold_recipient_box_cox ~ swing_dummy + log_house_price+ log_population + factor(county_pair_dummy) , data = data2)\n",
        "\n",
        "\n",
        "cluster_se_eko1v2 <- vcovCL(eko1v2, cluster = ~ county_pair_dummy)\n",
        "cluster_se_eko2v2 <- vcovCL(eko2v2, cluster = ~ county_pair_dummy)\n",
        "\n"
      ]
    },
    {
      "cell_type": "code",
      "execution_count": 26,
      "metadata": {
        "colab": {
          "base_uri": "https://localhost:8080/",
          "height": 560
        },
        "id": "9uDPKwW83lUN",
        "outputId": "7e1eb812-7f85-4e13-8c6a-883ac6bed1af",
        "vscode": {
          "languageId": "r"
        }
      },
      "outputs": [
        {
          "data": {
            "text/plain": [
              "\n",
              "+-----------------+-----------+-----------+\n",
              "|                 | (1)       | (2)       |\n",
              "+=================+===========+===========+\n",
              "| (Intercept)     | 12.795*** | 14.643**  |\n",
              "+-----------------+-----------+-----------+\n",
              "|                 | (0.158)   | (6.168)   |\n",
              "+-----------------+-----------+-----------+\n",
              "| swing_dummy     | 0.705**   | 0.553***  |\n",
              "+-----------------+-----------+-----------+\n",
              "|                 | (0.315)   | (0.201)   |\n",
              "+-----------------+-----------+-----------+\n",
              "| log_house_price |           | -2.997*** |\n",
              "+-----------------+-----------+-----------+\n",
              "|                 |           | (0.641)   |\n",
              "+-----------------+-----------+-----------+\n",
              "| log_population  |           | 2.892***  |\n",
              "+-----------------+-----------+-----------+\n",
              "|                 |           | (0.174)   |\n",
              "+-----------------+-----------+-----------+\n",
              "| Num.Obs.        | 768       | 768       |\n",
              "+-----------------+-----------+-----------+\n",
              "| R2              | 0.844     | 0.938     |\n",
              "+-----------------+-----------+-----------+\n",
              "| R2 Adj.         | 0.688     | 0.875     |\n",
              "+-----------------+-----------+-----------+\n",
              "| Log.Lik.        | -1688.629 | -1336.763 |\n",
              "+=================+===========+===========+\n",
              "| * p < 0.1, ** p < 0.05, *** p < 0.01    |\n",
              "+=================+===========+===========+\n",
              "| The standard errors are clustered at    |\n",
              "| the county pair level.                  |\n",
              "+=================+===========+===========+ "
            ]
          },
          "metadata": {},
          "output_type": "display_data"
        }
      ],
      "source": [
        "#Table 5\n",
        "model_list <- list(eko1v2, eko2v2)\n",
        "vcov_list <- list(cluster_se_eko1v2, cluster_se_eko2v2)\n",
        "\n",
        "\n",
        "custom_stars <- c('*' = 0.10, '**' = 0.05, '***' = 0.01)\n",
        "\n",
        "modelsummary(model_list,\n",
        "            vcov = vcov_list,\n",
        "            stars = custom_stars,\n",
        "            coef_omit = \"factor\\\\(county_pair_dummy\\\\)\",\n",
        "            gof_omit = 'Within|Std.Errors|AIC|BIC|RMSE',\n",
        "            fmt = 3,\n",
        "            notes = \"The standard errors are clustered at the county pair level.\")  # Add custom footnote for significance stars"
      ]
    }
  ],
  "metadata": {
    "colab": {
      "provenance": []
    },
    "kernelspec": {
      "display_name": "R",
      "name": "ir"
    },
    "language_info": {
      "name": "R"
    }
  },
  "nbformat": 4,
  "nbformat_minor": 0
}
