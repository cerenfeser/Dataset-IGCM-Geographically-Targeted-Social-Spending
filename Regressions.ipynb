{
  "cells": [
    {
      "cell_type": "code",
      "execution_count": 1,
      "metadata": {
        "colab": {
          "base_uri": "https://localhost:8080/"
        },
        "id": "jp0ZshVqRPI1",
        "outputId": "10973dfd-d37c-4aad-e417-81073bfe1f11",
        "vscode": {
          "languageId": "r"
        }
      },
      "outputs": [
        {
          "name": "stderr",
          "output_type": "stream",
          "text": [
            "Installing package into ‘/usr/local/lib/R/site-library’\n",
            "(as ‘lib’ is unspecified)\n",
            "\n",
            "also installing the dependencies ‘miscTools’, ‘rbibutils’, ‘bdsmatrix’, ‘collapse’, ‘zoo’, ‘sandwich’, ‘lmtest’, ‘maxLik’, ‘Rdpack’, ‘Formula’\n",
            "\n",
            "\n",
            "Installing package into ‘/usr/local/lib/R/site-library’\n",
            "(as ‘lib’ is unspecified)\n",
            "\n",
            "also installing the dependencies ‘cowplot’, ‘Deriv’, ‘microbenchmark’, ‘numDeriv’, ‘doBy’, ‘SparseM’, ‘MatrixModels’, ‘minqa’, ‘nloptr’, ‘RcppEigen’, ‘carData’, ‘abind’, ‘pbkrtest’, ‘quantreg’, ‘lme4’, ‘car’\n",
            "\n",
            "\n"
          ]
        }
      ],
      "source": [
        "install.packages(\"plm\")\n",
        "install.packages(\"AER\")\n"
      ]
    },
    {
      "cell_type": "code",
      "execution_count": 61,
      "metadata": {
        "id": "p2AU_D-PXzSh",
        "vscode": {
          "languageId": "r"
        }
      },
      "outputs": [],
      "source": [
        "\n",
        "library(plm)\n",
        "library(AER)\n",
        "library(dplyr)\n",
        "library(\"readxl\")\n",
        "\n",
        "data <- read_excel('/content/dataset1.xlsx')"
      ]
    },
    {
      "cell_type": "code",
      "execution_count": 62,
      "metadata": {
        "id": "KZtAhW7_pzEw",
        "vscode": {
          "languageId": "r"
        }
      },
      "outputs": [],
      "source": [
        "data$mov_june_sq <- data$mov_june^2\n",
        "\n",
        "data$eko_2019_june_r_sq <- data$eko_2019_june_r^2\n",
        "\n"
      ]
    },
    {
      "cell_type": "code",
      "execution_count": 63,
      "metadata": {
        "colab": {
          "base_uri": "https://localhost:8080/",
          "height": 65
        },
        "id": "dSpQB2llx9wP",
        "outputId": "5ea112d0-8a1a-498c-84d9-ddd297867406",
        "vscode": {
          "languageId": "r"
        }
      },
      "outputs": [
        {
          "data": {
            "text/html": [
              "<style>\n",
              ".list-inline {list-style: none; margin:0; padding: 0}\n",
              ".list-inline>li {display: inline-block}\n",
              ".list-inline>li:not(:last-child)::after {content: \"\\00b7\"; padding: 0 .5ex}\n",
              "</style>\n",
              "<ol class=list-inline><li>'district'</li><li>'nhood'</li><li>'district_nhood'</li><li>'avg_hous'</li><li>'akp_2018'</li><li>'opposition_2018'</li><li>'chp_2018'</li><li>'gecerli_2018'</li><li>'kullanilan_2019_june'</li><li>'registered_2019_june'</li><li>'valid_2019_june'</li><li>'chp_2019_june'</li><li>'akp_2019_june'</li><li>'kullanilan_2023'</li><li>'registered_2023'</li><li>'valid_2023'</li><li>'kk_2023'</li><li>'rte_2023'</li><li>'hhold_recipient'</li><li>'population2023'</li><li>'SES_numeric'</li><li>'house_price'</li><li>'cumhur'</li><li>'eko_2019_june_r'</li><li>'mov_june'</li><li>'log_population'</li><li>'log_house_price'</li><li>'2018mov'</li><li>'opp2018_r'</li><li>'kk23_r'</li><li>'hhold_recipient_avg_hous'</li><li>'hhold_recipient_population'</li><li>'hhold_recipient_regvoters'</li><li>'hhold_recipient_pop_boxcox'</li><li>'hhold_recipient_box_cox'</li><li>'mov_june_sq'</li><li>'eko_2019_june_r_sq'</li></ol>\n"
            ],
            "text/latex": [
              "\\begin{enumerate*}\n",
              "\\item 'district'\n",
              "\\item 'nhood'\n",
              "\\item 'district\\_nhood'\n",
              "\\item 'avg\\_hous'\n",
              "\\item 'akp\\_2018'\n",
              "\\item 'opposition\\_2018'\n",
              "\\item 'chp\\_2018'\n",
              "\\item 'gecerli\\_2018'\n",
              "\\item 'kullanilan\\_2019\\_june'\n",
              "\\item 'registered\\_2019\\_june'\n",
              "\\item 'valid\\_2019\\_june'\n",
              "\\item 'chp\\_2019\\_june'\n",
              "\\item 'akp\\_2019\\_june'\n",
              "\\item 'kullanilan\\_2023'\n",
              "\\item 'registered\\_2023'\n",
              "\\item 'valid\\_2023'\n",
              "\\item 'kk\\_2023'\n",
              "\\item 'rte\\_2023'\n",
              "\\item 'hhold\\_recipient'\n",
              "\\item 'population2023'\n",
              "\\item 'SES\\_numeric'\n",
              "\\item 'house\\_price'\n",
              "\\item 'cumhur'\n",
              "\\item 'eko\\_2019\\_june\\_r'\n",
              "\\item 'mov\\_june'\n",
              "\\item 'log\\_population'\n",
              "\\item 'log\\_house\\_price'\n",
              "\\item '2018mov'\n",
              "\\item 'opp2018\\_r'\n",
              "\\item 'kk23\\_r'\n",
              "\\item 'hhold\\_recipient\\_avg\\_hous'\n",
              "\\item 'hhold\\_recipient\\_population'\n",
              "\\item 'hhold\\_recipient\\_regvoters'\n",
              "\\item 'hhold\\_recipient\\_pop\\_boxcox'\n",
              "\\item 'hhold\\_recipient\\_box\\_cox'\n",
              "\\item 'mov\\_june\\_sq'\n",
              "\\item 'eko\\_2019\\_june\\_r\\_sq'\n",
              "\\end{enumerate*}\n"
            ],
            "text/markdown": [
              "1. 'district'\n",
              "2. 'nhood'\n",
              "3. 'district_nhood'\n",
              "4. 'avg_hous'\n",
              "5. 'akp_2018'\n",
              "6. 'opposition_2018'\n",
              "7. 'chp_2018'\n",
              "8. 'gecerli_2018'\n",
              "9. 'kullanilan_2019_june'\n",
              "10. 'registered_2019_june'\n",
              "11. 'valid_2019_june'\n",
              "12. 'chp_2019_june'\n",
              "13. 'akp_2019_june'\n",
              "14. 'kullanilan_2023'\n",
              "15. 'registered_2023'\n",
              "16. 'valid_2023'\n",
              "17. 'kk_2023'\n",
              "18. 'rte_2023'\n",
              "19. 'hhold_recipient'\n",
              "20. 'population2023'\n",
              "21. 'SES_numeric'\n",
              "22. 'house_price'\n",
              "23. 'cumhur'\n",
              "24. 'eko_2019_june_r'\n",
              "25. 'mov_june'\n",
              "26. 'log_population'\n",
              "27. 'log_house_price'\n",
              "28. '2018mov'\n",
              "29. 'opp2018_r'\n",
              "30. 'kk23_r'\n",
              "31. 'hhold_recipient_avg_hous'\n",
              "32. 'hhold_recipient_population'\n",
              "33. 'hhold_recipient_regvoters'\n",
              "34. 'hhold_recipient_pop_boxcox'\n",
              "35. 'hhold_recipient_box_cox'\n",
              "36. 'mov_june_sq'\n",
              "37. 'eko_2019_june_r_sq'\n",
              "\n",
              "\n"
            ],
            "text/plain": [
              " [1] \"district\"                   \"nhood\"                     \n",
              " [3] \"district_nhood\"             \"avg_hous\"                  \n",
              " [5] \"akp_2018\"                   \"opposition_2018\"           \n",
              " [7] \"chp_2018\"                   \"gecerli_2018\"              \n",
              " [9] \"kullanilan_2019_june\"       \"registered_2019_june\"      \n",
              "[11] \"valid_2019_june\"            \"chp_2019_june\"             \n",
              "[13] \"akp_2019_june\"              \"kullanilan_2023\"           \n",
              "[15] \"registered_2023\"            \"valid_2023\"                \n",
              "[17] \"kk_2023\"                    \"rte_2023\"                  \n",
              "[19] \"hhold_recipient\"            \"population2023\"            \n",
              "[21] \"SES_numeric\"                \"house_price\"               \n",
              "[23] \"cumhur\"                     \"eko_2019_june_r\"           \n",
              "[25] \"mov_june\"                   \"log_population\"            \n",
              "[27] \"log_house_price\"            \"2018mov\"                   \n",
              "[29] \"opp2018_r\"                  \"kk23_r\"                    \n",
              "[31] \"hhold_recipient_avg_hous\"   \"hhold_recipient_population\"\n",
              "[33] \"hhold_recipient_regvoters\"  \"hhold_recipient_pop_boxcox\"\n",
              "[35] \"hhold_recipient_box_cox\"    \"mov_june_sq\"               \n",
              "[37] \"eko_2019_june_r_sq\"        "
            ]
          },
          "metadata": {},
          "output_type": "display_data"
        }
      ],
      "source": [
        "colnames(data)"
      ]
    },
    {
      "cell_type": "code",
      "execution_count": 4,
      "metadata": {
        "colab": {
          "base_uri": "https://localhost:8080/"
        },
        "id": "y809m7imyrLf",
        "outputId": "55512b65-83d9-4024-fe34-afaafacc3799",
        "vscode": {
          "languageId": "r"
        }
      },
      "outputs": [
        {
          "name": "stderr",
          "output_type": "stream",
          "text": [
            "Installing package into ‘/usr/local/lib/R/site-library’\n",
            "(as ‘lib’ is unspecified)\n",
            "\n",
            "\n",
            "Please cite as: \n",
            "\n",
            "\n",
            " Hlavac, Marek (2022). stargazer: Well-Formatted Regression and Summary Statistics Tables.\n",
            "\n",
            " R package version 5.2.3. https://CRAN.R-project.org/package=stargazer \n",
            "\n",
            "\n"
          ]
        }
      ],
      "source": [
        "install.packages(\"stargazer\")\n",
        "\n",
        "library(stargazer)"
      ]
    },
    {
      "cell_type": "code",
      "execution_count": 77,
      "metadata": {
        "id": "RipkIFlzyrOG",
        "vscode": {
          "languageId": "r"
        }
      },
      "outputs": [],
      "source": [
        "#Comparison of OLS Estimates on CHP Vote Share and Average Recipient of Social Support Istanbulkart.\n",
        "eko1 <- lm(hhold_recipient_pop_boxcox ~ eko_2019_june_r + eko_2019_june_r_sq, data = data)\n",
        "\n",
        "eko2 <- lm(hhold_recipient_pop_boxcox ~ eko_2019_june_r + eko_2019_june_r_sq+ SES_numeric + log_house_price , data = data)\n",
        "\n",
        "eko3 <- lm(hhold_recipient_pop_boxcox ~ eko_2019_june_r + eko_2019_june_r_sq + SES_numeric + log_house_price  +factor(district) , data = data)\n",
        "\n",
        "\n",
        "se1 <- sqrt(diag(vcovHC(eko1, type = \"HC3\")))\n",
        "se2 <- sqrt(diag(vcovHC(eko2, type = \"HC3\")))\n",
        "se3 <- sqrt(diag(vcovHC(eko3, type = \"HC3\")))\n"
      ]
    },
    {
      "cell_type": "code",
      "execution_count": 78,
      "metadata": {
        "colab": {
          "base_uri": "https://localhost:8080/"
        },
        "id": "DEa2ujOKyrQ1",
        "outputId": "5a30e674-9b1c-4f24-f2e0-0b00637beccf",
        "vscode": {
          "languageId": "r"
        }
      },
      "outputs": [
        {
          "name": "stdout",
          "output_type": "stream",
          "text": [
            "\n",
            "Model Comparison Avg.Rec - Table2\n",
            "==============================================================================================\n",
            "                                               Dependent variable:                            \n",
            "                    --------------------------------------------------------------------------\n",
            "                                            hhold_recipient_pop_boxcox                        \n",
            "                              (1)                      (2)                      (3)           \n",
            "----------------------------------------------------------------------------------------------\n",
            "eko_2019_june_r             1.304***                 0.677***                 0.706***        \n",
            "                            (0.205)                  (0.186)                  (0.185)         \n",
            "                                                                                              \n",
            "eko_2019_june_r_sq         -1.555***                -0.663***                -0.747***        \n",
            "                            (0.170)                  (0.159)                  (0.163)         \n",
            "                                                                                              \n",
            "SES_numeric                                         -0.033***                -0.035***        \n",
            "                                                     (0.004)                  (0.004)         \n",
            "                                                                                              \n",
            "log_house_price                                     -0.098***                -0.120***        \n",
            "                                                     (0.014)                  (0.016)         \n",
            "                                                                                              \n",
            "Constant                   -2.380***                -1.213***                -0.918***        \n",
            "                            (0.059)                  (0.151)                  (0.168)         \n",
            "                                                                                              \n",
            "----------------------------------------------------------------------------------------------\n",
            "Observations                  954                      954                      954           \n",
            "R2                           0.216                    0.394                    0.538          \n",
            "Adjusted R2                  0.214                    0.392                    0.517          \n",
            "Residual Std. Error     0.164 (df = 951)         0.144 (df = 949)         0.128 (df = 911)    \n",
            "F Statistic         130.899*** (df = 2; 951) 154.571*** (df = 4; 949) 25.282*** (df = 42; 911)\n",
            "==============================================================================================\n",
            "Note:                                                              *p<0.1; **p<0.05; ***p<0.01\n"
          ]
        }
      ],
      "source": [
        "\n",
        "stargazer(eko1, eko2, eko3,\n",
        "          type = \"text\",\n",
        "          title = \"Model Comparison Avg.Rec - Table2\",\n",
        "          align = TRUE,\n",
        "          se = list(se1, se2, se3),\n",
        "          omit = \"^factor\\\\(district\\\\)\")"
      ]
    },
    {
      "cell_type": "code",
      "execution_count": 79,
      "metadata": {
        "id": "GyNjIAL_yrTo",
        "vscode": {
          "languageId": "r"
        }
      },
      "outputs": [],
      "source": [
        "#Comparison of OLS Estimates on MoV and Average Recipient of Social Support Istanbulkart Recipient\n",
        "mov1 <- lm(hhold_recipient_pop_boxcox ~ mov_june + mov_june_sq, data = data)\n",
        "\n",
        "mov2 <- lm(hhold_recipient_pop_boxcox ~ mov_june + mov_june_sq + SES_numeric + log_house_price, data = data)\n",
        "\n",
        "mov3 <- lm(hhold_recipient_pop_boxcox ~ mov_june + mov_june_sq + SES_numeric + log_house_price +factor(district) , data = data)\n",
        "\n",
        "\n",
        "\n",
        "\n",
        "se1 <- sqrt(diag(vcovHC(mov1, type = \"HC3\")))\n",
        "se2 <- sqrt(diag(vcovHC(mov2, type = \"HC3\")))\n",
        "se3 <- sqrt(diag(vcovHC(mov3, type = \"HC3\")))"
      ]
    },
    {
      "cell_type": "code",
      "execution_count": 80,
      "metadata": {
        "colab": {
          "base_uri": "https://localhost:8080/"
        },
        "id": "fdVbswg9yrZL",
        "outputId": "6fe70a7b-0a42-4c70-f441-3755f57efcb6",
        "vscode": {
          "languageId": "r"
        }
      },
      "outputs": [
        {
          "name": "stdout",
          "output_type": "stream",
          "text": [
            "\n",
            "Model Comparison Avg.Rec mov - Table3\n",
            "==============================================================================================\n",
            "                                               Dependent variable:                            \n",
            "                    --------------------------------------------------------------------------\n",
            "                                            hhold_recipient_pop_boxcox                        \n",
            "                              (1)                      (2)                      (3)           \n",
            "----------------------------------------------------------------------------------------------\n",
            "mov_june                    0.187**                   0.030                    0.146*         \n",
            "                            (0.094)                  (0.080)                  (0.085)         \n",
            "                                                                                              \n",
            "mov_june_sq                -0.777***                 -0.202**                -0.393***        \n",
            "                            (0.120)                  (0.103)                  (0.114)         \n",
            "                                                                                              \n",
            "SES_numeric                                         -0.033***                -0.036***        \n",
            "                                                     (0.003)                  (0.003)         \n",
            "                                                                                              \n",
            "log_house_price                                     -0.097***                -0.120***        \n",
            "                                                     (0.014)                  (0.015)         \n",
            "                                                                                              \n",
            "Constant                   -2.135***                -1.054***                -0.775***        \n",
            "                            (0.013)                  (0.133)                  (0.158)         \n",
            "                                                                                              \n",
            "----------------------------------------------------------------------------------------------\n",
            "Observations                  954                      954                      954           \n",
            "R2                           0.190                    0.395                    0.540          \n",
            "Adjusted R2                  0.189                    0.392                    0.519          \n",
            "Residual Std. Error     0.166 (df = 951)         0.144 (df = 949)         0.128 (df = 911)    \n",
            "F Statistic         111.883*** (df = 2; 951) 154.602*** (df = 4; 949) 25.472*** (df = 42; 911)\n",
            "==============================================================================================\n",
            "Note:                                                              *p<0.1; **p<0.05; ***p<0.01\n"
          ]
        }
      ],
      "source": [
        "\n",
        "stargazer(mov1, mov2, mov3,\n",
        "          type = \"text\",\n",
        "          title = \"Model Comparison Avg.Rec mov - Table3\",\n",
        "          align = TRUE,\n",
        "          se = list(se1, se2, se3),\n",
        "          omit = \"^factor\\\\(district\\\\)\")"
      ]
    },
    {
      "cell_type": "code",
      "execution_count": 81,
      "metadata": {
        "id": "bvYleDyasMYT",
        "vscode": {
          "languageId": "r"
        }
      },
      "outputs": [],
      "source": [
        "#Comparison of OLS Estimates on CHP Vote Share and Recipient of Social Support Istanbulkart - appendix\n",
        "eko1v2 <- lm(hhold_recipient_box_cox ~ eko_2019_june_r + eko_2019_june_r_sq, data = data)\n",
        "\n",
        "eko2v2 <- lm(hhold_recipient_box_cox ~ eko_2019_june_r + eko_2019_june_r_sq+ SES_numeric + log_house_price + log_population , data = data)\n",
        "\n",
        "eko3v2 <- lm(hhold_recipient_box_cox ~ eko_2019_june_r + eko_2019_june_r_sq + SES_numeric + log_house_price  + log_population + factor(district) , data = data)\n",
        "\n",
        "\n",
        "se1 <- sqrt(diag(vcovHC(eko1v2, type = \"HC3\")))\n",
        "se2 <- sqrt(diag(vcovHC(eko2v2, type = \"HC3\")))\n",
        "se3 <- sqrt(diag(vcovHC(eko3v2, type = \"HC3\")))"
      ]
    },
    {
      "cell_type": "code",
      "execution_count": 82,
      "metadata": {
        "colab": {
          "base_uri": "https://localhost:8080/"
        },
        "id": "NhQR99oqsMbQ",
        "outputId": "6ee8debf-31c4-4e34-f142-fbe5119df794",
        "vscode": {
          "languageId": "r"
        }
      },
      "outputs": [
        {
          "name": "stdout",
          "output_type": "stream",
          "text": [
            "\n",
            "Model Comparison Rec - Appendix Table A.7\n",
            "================================================================================================\n",
            "                                                Dependent variable:                             \n",
            "                    ----------------------------------------------------------------------------\n",
            "                                              hhold_recipient_box_cox                           \n",
            "                              (1)                      (2)                        (3)           \n",
            "------------------------------------------------------------------------------------------------\n",
            "eko_2019_june_r            38.193***                 9.758***                  11.288***        \n",
            "                            (6.345)                  (2.393)                    (2.715)         \n",
            "                                                                                                \n",
            "eko_2019_june_r_sq        -42.347***                -11.750***                -13.372***        \n",
            "                            (5.183)                  (2.215)                    (2.595)         \n",
            "                                                                                                \n",
            "SES_numeric                                         -0.729***                  -0.683***        \n",
            "                                                     (0.051)                    (0.058)         \n",
            "                                                                                                \n",
            "log_house_price                                     -1.091***                  -1.619***        \n",
            "                                                     (0.182)                    (0.234)         \n",
            "                                                                                                \n",
            "log_population                                       2.756***                  2.679***         \n",
            "                                                     (0.047)                    (0.066)         \n",
            "                                                                                                \n",
            "Constant                     0.575                   -4.764**                    2.100          \n",
            "                            (1.839)                  (2.080)                    (2.734)         \n",
            "                                                                                                \n",
            "------------------------------------------------------------------------------------------------\n",
            "Observations                  954                      954                        954           \n",
            "R2                           0.134                    0.867                      0.893          \n",
            "Adjusted R2                  0.132                    0.867                      0.887          \n",
            "Residual Std. Error    5.081 (df = 951)          1.993 (df = 948)          1.830 (df = 910)     \n",
            "F Statistic         73.768*** (df = 2; 951) 1,238.390*** (df = 5; 948) 175.833*** (df = 43; 910)\n",
            "================================================================================================\n",
            "Note:                                                                *p<0.1; **p<0.05; ***p<0.01\n"
          ]
        }
      ],
      "source": [
        "\n",
        "stargazer(eko1v2, eko2v2, eko3v2,\n",
        "          type = \"text\",\n",
        "          title = \"Model Comparison Rec - Appendix Table A.7\",\n",
        "          align = TRUE,\n",
        "          se = list(se1, se2, se3),\n",
        "          omit = \"^factor\\\\(district\\\\)\")"
      ]
    },
    {
      "cell_type": "code",
      "execution_count": 83,
      "metadata": {
        "id": "8hVSbYWgsMeq",
        "vscode": {
          "languageId": "r"
        }
      },
      "outputs": [],
      "source": [
        "#Comparison of OLS Estimates on MoV and Recipient of Social Support Istanbulkart - appendix\n",
        "mov1v2 <- lm(hhold_recipient_box_cox ~ mov_june + mov_june_sq, data = data)\n",
        "\n",
        "mov2v2 <- lm(hhold_recipient_box_cox ~ mov_june + mov_june_sq + SES_numeric + log_house_price+ log_population, data = data)\n",
        "\n",
        "mov3v2 <- lm(hhold_recipient_box_cox ~ mov_june + mov_june_sq + SES_numeric + log_house_price +log_population+ factor(district) , data = data)\n",
        "\n",
        "\n",
        "\n",
        "\n",
        "se1 <- sqrt(diag(vcovHC(mov1v2, type = \"HC3\")))\n",
        "se2 <- sqrt(diag(vcovHC(mov2v2, type = \"HC3\")))\n",
        "se3 <- sqrt(diag(vcovHC(mov3v2, type = \"HC3\")))"
      ]
    },
    {
      "cell_type": "code",
      "execution_count": 84,
      "metadata": {
        "colab": {
          "base_uri": "https://localhost:8080/"
        },
        "id": "lGhaq-nSyx3v",
        "outputId": "ea6a57de-54d3-4d69-f034-d889e7a77e66",
        "vscode": {
          "languageId": "r"
        }
      },
      "outputs": [
        {
          "name": "stdout",
          "output_type": "stream",
          "text": [
            "\n",
            "Model Comparison Rec mov - Appendix Table A.8\n",
            "================================================================================================\n",
            "                                                Dependent variable:                             \n",
            "                    ----------------------------------------------------------------------------\n",
            "                                              hhold_recipient_box_cox                           \n",
            "                              (1)                      (2)                        (3)           \n",
            "------------------------------------------------------------------------------------------------\n",
            "mov_june                     0.681                    1.866*                     1.981          \n",
            "                            (2.733)                  (1.124)                    (1.239)         \n",
            "                                                                                                \n",
            "mov_june_sq               -13.843***                -6.079***                  -6.468***        \n",
            "                            (3.377)                  (1.611)                    (1.894)         \n",
            "                                                                                                \n",
            "SES_numeric                                         -0.789***                  -0.742***        \n",
            "                                                     (0.045)                    (0.054)         \n",
            "                                                                                                \n",
            "log_house_price                                     -1.079***                  -1.693***        \n",
            "                                                     (0.182)                    (0.232)         \n",
            "                                                                                                \n",
            "log_population                                       2.754***                  2.672***         \n",
            "                                                     (0.048)                    (0.067)         \n",
            "                                                                                                \n",
            "Constant                   9.076***                   -2.953                    4.877*          \n",
            "                            (0.407)                  (1.982)                    (2.683)         \n",
            "                                                                                                \n",
            "------------------------------------------------------------------------------------------------\n",
            "Observations                  954                      954                        954           \n",
            "R2                           0.126                    0.866                      0.892          \n",
            "Adjusted R2                  0.124                    0.865                      0.887          \n",
            "Residual Std. Error    5.105 (df = 951)          2.003 (df = 948)          1.837 (df = 910)     \n",
            "F Statistic         68.612*** (df = 2; 951) 1,224.008*** (df = 5; 948) 174.174*** (df = 43; 910)\n",
            "================================================================================================\n",
            "Note:                                                                *p<0.1; **p<0.05; ***p<0.01\n"
          ]
        }
      ],
      "source": [
        "\n",
        "stargazer(mov1v2, mov2v2, mov3v2,\n",
        "          type = \"text\",\n",
        "          title = \"Model Comparison Rec mov - Appendix Table A.8\",\n",
        "          align = TRUE,\n",
        "          se = list(se1, se2, se3),\n",
        "          omit = \"^factor\\\\(district\\\\)\")"
      ]
    },
    {
      "cell_type": "code",
      "execution_count": 86,
      "metadata": {
        "id": "zH1MtA9Myx6x",
        "vscode": {
          "languageId": "r"
        }
      },
      "outputs": [],
      "source": [
        "#Comparison of OLS Estimates for % Opposition Support (2023)\n",
        "kk1 <- lm(kk23_r ~ hhold_recipient_population + SES_numeric +log_population + opp2018_r + log_house_price , data = data)\n",
        "\n",
        "kk2 <- lm(kk23_r ~ hhold_recipient_regvoters + SES_numeric +log_population + opp2018_r + log_house_price , data = data)\n",
        "\n",
        "kk3 <- lm(kk23_r ~ hhold_recipient_population + SES_numeric +log_population + opp2018_r + log_house_price   +factor(district) , data = data)\n",
        "\n",
        "kk4 <- lm(kk23_r ~ hhold_recipient_regvoters +  SES_numeric +log_population + opp2018_r + log_house_price  +factor(district) , data = data)\n",
        "\n",
        "\n",
        "se1 <- sqrt(diag(vcovHC(kk1, type = \"HC3\")))\n",
        "se2 <- sqrt(diag(vcovHC(kk2, type = \"HC3\")))\n",
        "se3 <- sqrt(diag(vcovHC(kk3, type = \"HC3\")))\n",
        "se4 <- sqrt(diag(vcovHC(kk4, type = \"HC3\")))\n"
      ]
    },
    {
      "cell_type": "code",
      "execution_count": 88,
      "metadata": {
        "colab": {
          "base_uri": "https://localhost:8080/"
        },
        "id": "SRR7uyuX0HbP",
        "outputId": "e611db6c-aedc-408a-e660-5a754ffe2354",
        "vscode": {
          "languageId": "r"
        }
      },
      "outputs": [
        {
          "name": "stdout",
          "output_type": "stream",
          "text": [
            "\n",
            "Model Comparison - Table 6\n",
            "====================================================================================================================================\n",
            "                                                                      Dependent variable:                                           \n",
            "                           ---------------------------------------------------------------------------------------------------------\n",
            "                                                                            kk23_r                                                  \n",
            "                                      (1)                        (2)                        (3)                       (4)           \n",
            "------------------------------------------------------------------------------------------------------------------------------------\n",
            "hhold_recipient_population          0.316***                                              0.252**                                   \n",
            "                                    (0.095)                                               (0.115)                                   \n",
            "                                                                                                                                    \n",
            "hhold_recipient_regvoters                                      0.239***                                            0.202***         \n",
            "                                                               (0.059)                                              (0.076)         \n",
            "                                                                                                                                    \n",
            "SES_numeric                         0.002***                   0.002***                   0.0003                    0.0004          \n",
            "                                    (0.001)                    (0.001)                    (0.001)                   (0.001)         \n",
            "                                                                                                                                    \n",
            "log_population                      0.002**                    0.002**                     0.002                     0.002          \n",
            "                                    (0.001)                    (0.001)                    (0.001)                   (0.001)         \n",
            "                                                                                                                                    \n",
            "opp2018_r                           0.941***                   0.941***                  0.931***                  0.931***         \n",
            "                                    (0.008)                    (0.008)                    (0.009)                   (0.009)         \n",
            "                                                                                                                                    \n",
            "log_house_price                     0.013***                   0.013***                  0.010***                  0.010***         \n",
            "                                    (0.002)                    (0.002)                    (0.003)                   (0.003)         \n",
            "                                                                                                                                    \n",
            "Constant                           -0.149***                  -0.150***                   -0.073*                  -0.073**         \n",
            "                                    (0.026)                    (0.026)                    (0.038)                   (0.037)         \n",
            "                                                                                                                                    \n",
            "------------------------------------------------------------------------------------------------------------------------------------\n",
            "Observations                          954                        954                        954                       954           \n",
            "R2                                   0.972                      0.972                      0.975                     0.976          \n",
            "Adjusted R2                          0.972                      0.972                      0.974                     0.974          \n",
            "Residual Std. Error             0.027 (df = 948)           0.027 (df = 948)          0.026 (df = 910)          0.026 (df = 910)     \n",
            "F Statistic                6,529.860*** (df = 5; 948) 6,541.492*** (df = 5; 948) 841.893*** (df = 43; 910) 843.765*** (df = 43; 910)\n",
            "====================================================================================================================================\n",
            "Note:                                                                                                    *p<0.1; **p<0.05; ***p<0.01\n"
          ]
        }
      ],
      "source": [
        "\n",
        "stargazer(kk1, kk2, kk3, kk4,\n",
        "          type = \"text\",\n",
        "          title = \"Model Comparison - Table 6\",\n",
        "          align = TRUE,\n",
        "          se = list(se1, se2, se3, se4),\n",
        "          omit = \"^factor\\\\(district\\\\)\")"
      ]
    },
    {
      "cell_type": "code",
      "execution_count": 89,
      "metadata": {
        "id": "uM8YvD3b0Hd6",
        "vscode": {
          "languageId": "r"
        }
      },
      "outputs": [],
      "source": [
        "# Comparison of OLS Estimates for % Opposition Support (2023) using Average Household Size - appendix\n",
        "kk1v2 <- lm(kk23_r ~ hhold_recipient_avg_hous + SES_numeric +log_population + opp2018_r + log_house_price , data = data)\n",
        "\n",
        "kk2v2 <- lm(kk23_r ~ hhold_recipient_avg_hous + SES_numeric +log_population + opp2018_r + log_house_price   +factor(district) , data = data)\n",
        "\n",
        "se1 <- sqrt(diag(vcovHC(kk1v2, type = \"HC3\")))\n",
        "se2 <- sqrt(diag(vcovHC(kk2v2, type = \"HC3\")))"
      ]
    },
    {
      "cell_type": "code",
      "execution_count": 90,
      "metadata": {
        "colab": {
          "base_uri": "https://localhost:8080/"
        },
        "id": "O_sIKPoR0HhL",
        "outputId": "8fff08db-696b-4410-ff11-54f84ace0c72",
        "vscode": {
          "languageId": "r"
        }
      },
      "outputs": [
        {
          "name": "stdout",
          "output_type": "stream",
          "text": [
            "\n",
            "Model Comparison - Appendix Table B.9\n",
            "===============================================================================\n",
            "                                          Dependent variable:                  \n",
            "                         ------------------------------------------------------\n",
            "                                                 kk23_r                        \n",
            "                                    (1)                         (2)            \n",
            "-------------------------------------------------------------------------------\n",
            "hhold_recipient_avg_hous          0.092***                    0.053**          \n",
            "                                  (0.022)                     (0.024)          \n",
            "                                                                               \n",
            "SES_numeric                       0.002***                     0.001           \n",
            "                                  (0.001)                     (0.001)          \n",
            "                                                                               \n",
            "log_population                    0.002**                      0.001           \n",
            "                                  (0.001)                     (0.001)          \n",
            "                                                                               \n",
            "opp2018_r                         0.949***                   0.935***          \n",
            "                                  (0.007)                     (0.008)          \n",
            "                                                                               \n",
            "log_house_price                   0.012***                    0.007**          \n",
            "                                  (0.002)                     (0.003)          \n",
            "                                                                               \n",
            "Constant                         -0.139***                    -0.039           \n",
            "                                  (0.025)                     (0.035)          \n",
            "                                                                               \n",
            "-------------------------------------------------------------------------------\n",
            "Observations                        889                         889            \n",
            "R2                                 0.981                       0.985           \n",
            "Adjusted R2                        0.981                       0.984           \n",
            "Residual Std. Error           0.022 (df = 883)           0.020 (df = 845)      \n",
            "F Statistic              8,965.668*** (df = 5; 883) 1,280.901*** (df = 43; 845)\n",
            "===============================================================================\n",
            "Note:                                               *p<0.1; **p<0.05; ***p<0.01\n"
          ]
        }
      ],
      "source": [
        "\n",
        "stargazer(kk1v2, kk2v2,\n",
        "          type = \"text\",\n",
        "          title = \"Model Comparison - Appendix Table B.9\",\n",
        "          align = TRUE,\n",
        "          se = list(se1, se2),\n",
        "          omit = \"^factor\\\\(district\\\\)\")"
      ]
    },
    {
      "cell_type": "code",
      "execution_count": null,
      "metadata": {
        "id": "LS8aq9sVyx9d",
        "vscode": {
          "languageId": "r"
        }
      },
      "outputs": [],
      "source": []
    },
    {
      "cell_type": "code",
      "execution_count": null,
      "metadata": {
        "id": "PN5hlgJN8mni",
        "vscode": {
          "languageId": "r"
        }
      },
      "outputs": [],
      "source": []
    }
  ],
  "metadata": {
    "colab": {
      "provenance": []
    },
    "kernelspec": {
      "display_name": "R",
      "name": "ir"
    },
    "language_info": {
      "name": "R"
    }
  },
  "nbformat": 4,
  "nbformat_minor": 0
}
